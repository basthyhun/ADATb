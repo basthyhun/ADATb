{
    "metadata": {
        "kernelspec": {
            "name": "SQL",
            "display_name": "SQL",
            "language": "sql"
        },
        "language_info": {
            "name": "sql",
            "version": ""
        }
    },
    "nbformat_minor": 2,
    "nbformat": 4,
    "cells": [
        {
            "cell_type": "code",
            "source": [
                "SELECT \r\n",
                "    SUM(CASE WHEN LISTAAR IS NULL THEN 1 ELSE 0 END) AS null_listaar_count,\r\n",
                "    (SUM(CASE WHEN  LISTAAR IS NULL THEN 1 ELSE 0 END) * 100.0) / COUNT(*) AS null_listaar_szazalek,\r\n",
                "    \r\n",
                "    SUM(CASE WHEN KESZLET IS NULL THEN 1 ELSE 0 END) AS null_keszlet_count,\r\n",
                "    (SUM(CASE WHEN KESZLET IS NULL THEN 1 ELSE 0 END) * 100.0) / COUNT(*) AS null_keszlet_szazalek\r\n",
                "    \r\n",
                "FROM Termek;"
            ],
            "metadata": {
                "azdata_cell_guid": "1a7615ae-df12-46c1-85d7-3a817cdf71f1",
                "language": "sql"
            },
            "outputs": [
                {
                    "output_type": "display_data",
                    "data": {
                        "text/html": "(1 row affected)"
                    },
                    "metadata": {}
                },
                {
                    "output_type": "display_data",
                    "data": {
                        "text/html": "Total execution time: 00:00:00.018"
                    },
                    "metadata": {}
                },
                {
                    "output_type": "execute_result",
                    "metadata": {},
                    "execution_count": 2,
                    "data": {
                        "application/vnd.dataresource+json": {
                            "schema": {
                                "fields": [
                                    {
                                        "name": "null_listaar_count"
                                    },
                                    {
                                        "name": "null_listaar_szazalek"
                                    },
                                    {
                                        "name": "null_keszlet_count"
                                    },
                                    {
                                        "name": "null_keszlet_szazalek"
                                    }
                                ]
                            },
                            "data": [
                                {
                                    "null_listaar_count": "0",
                                    "null_listaar_szazalek": "0.000000000000",
                                    "null_keszlet_count": "0",
                                    "null_keszlet_szazalek": "0.000000000000"
                                }
                            ]
                        },
                        "text/html": [
                            "<table>",
                            "<tr><th>null_listaar_count</th><th>null_listaar_szazalek</th><th>null_keszlet_count</th><th>null_keszlet_szazalek</th></tr>",
                            "<tr><td>0</td><td>0.000000000000</td><td>0</td><td>0.000000000000</td></tr>",
                            "</table>"
                        ]
                    }
                }
            ],
            "execution_count": 2
        },
        {
            "cell_type": "code",
            "source": [
                "SELECT \r\n",
                "    MIN(LISTAAR) AS min_ar,\r\n",
                "    MAX(LISTAAR) AS max_ar,\r\n",
                "    MIN(KESZLET) AS min_keszlet,\r\n",
                "    MAX(KESZLET) AS max_keszlet\r\n",
                "FROM Termek;"
            ],
            "metadata": {
                "azdata_cell_guid": "36e4762a-ab05-466f-a470-e6ff1e4db683",
                "language": "sql"
            },
            "outputs": [
                {
                    "output_type": "display_data",
                    "data": {
                        "text/html": "(1 row affected)"
                    },
                    "metadata": {}
                },
                {
                    "output_type": "display_data",
                    "data": {
                        "text/html": "Total execution time: 00:00:00.024"
                    },
                    "metadata": {}
                },
                {
                    "output_type": "execute_result",
                    "metadata": {},
                    "execution_count": 4,
                    "data": {
                        "application/vnd.dataresource+json": {
                            "schema": {
                                "fields": [
                                    {
                                        "name": "min_ar"
                                    },
                                    {
                                        "name": "max_ar"
                                    },
                                    {
                                        "name": "min_keszlet"
                                    },
                                    {
                                        "name": "max_keszlet"
                                    }
                                ]
                            },
                            "data": [
                                {
                                    "min_ar": "0",
                                    "max_ar": "46000",
                                    "min_keszlet": "0",
                                    "max_keszlet": "50000"
                                }
                            ]
                        },
                        "text/html": [
                            "<table>",
                            "<tr><th>min_ar</th><th>max_ar</th><th>min_keszlet</th><th>max_keszlet</th></tr>",
                            "<tr><td>0</td><td>46000</td><td>0</td><td>50000</td></tr>",
                            "</table>"
                        ]
                    }
                }
            ],
            "execution_count": 4
        },
        {
            "cell_type": "code",
            "source": [
                "SELECT \r\n",
                "    listaar, \r\n",
                "    COUNT(*) AS frequency\r\n",
                "FROM termek\r\n",
                "GROUP BY listaar\r\n",
                "ORDER BY listaar;\r\n",
                "\r\n",
                "SELECT \r\n",
                "    keszlet, \r\n",
                "    COUNT(*) AS frequency\r\n",
                "FROM termek\r\n",
                "GROUP BY keszlet\r\n",
                "ORDER BY keszlet;\r\n",
                ""
            ],
            "metadata": {
                "azdata_cell_guid": "cb703a48-038d-4018-b768-669aac0a5f18",
                "language": "sql"
            },
            "outputs": [
                {
                    "output_type": "display_data",
                    "data": {
                        "text/html": "(220 rows affected)"
                    },
                    "metadata": {}
                },
                {
                    "output_type": "display_data",
                    "data": {
                        "text/html": "(100 rows affected)"
                    },
                    "metadata": {}
                },
                {
                    "output_type": "display_data",
                    "data": {
                        "text/html": "Total execution time: 00:00:00.059"
                    },
                    "metadata": {}
                },
                {
                    "output_type": "execute_result",
                    "metadata": {},
                    "execution_count": 8,
                    "data": {
                        "application/vnd.dataresource+json": {
                            "schema": {
                                "fields": [
                                    {
                                        "name": "listaar"
                                    },
                                    {
                                        "name": "frequency"
                                    }
                                ]
                            },
                            "data": [
                                {
                                    "listaar": "0",
                                    "frequency": "1"
                                },
                                {
                                    "listaar": "3",
                                    "frequency": "3"
                                },
                                {
                                    "listaar": "4",
                                    "frequency": "2"
                                },
                                {
                                    "listaar": "5",
                                    "frequency": "1"
                                },
                                {
                                    "listaar": "6",
                                    "frequency": "2"
                                },
                                {
                                    "listaar": "8",
                                    "frequency": "6"
                                },
                                {
                                    "listaar": "9",
                                    "frequency": "3"
                                },
                                {
                                    "listaar": "10",
                                    "frequency": "2"
                                },
                                {
                                    "listaar": "11",
                                    "frequency": "7"
                                },
                                {
                                    "listaar": "12",
                                    "frequency": "1"
                                },
                                {
                                    "listaar": "13",
                                    "frequency": "1"
                                },
                                {
                                    "listaar": "14",
                                    "frequency": "3"
                                },
                                {
                                    "listaar": "15",
                                    "frequency": "14"
                                },
                                {
                                    "listaar": "18",
                                    "frequency": "2"
                                },
                                {
                                    "listaar": "19",
                                    "frequency": "8"
                                },
                                {
                                    "listaar": "20",
                                    "frequency": "3"
                                },
                                {
                                    "listaar": "23",
                                    "frequency": "9"
                                },
                                {
                                    "listaar": "24",
                                    "frequency": "4"
                                },
                                {
                                    "listaar": "25",
                                    "frequency": "2"
                                },
                                {
                                    "listaar": "26",
                                    "frequency": "6"
                                },
                                {
                                    "listaar": "28",
                                    "frequency": "1"
                                },
                                {
                                    "listaar": "29",
                                    "frequency": "1"
                                },
                                {
                                    "listaar": "30",
                                    "frequency": "16"
                                },
                                {
                                    "listaar": "31",
                                    "frequency": "1"
                                },
                                {
                                    "listaar": "33",
                                    "frequency": "7"
                                },
                                {
                                    "listaar": "34",
                                    "frequency": "4"
                                },
                                {
                                    "listaar": "35",
                                    "frequency": "3"
                                },
                                {
                                    "listaar": "36",
                                    "frequency": "10"
                                },
                                {
                                    "listaar": "38",
                                    "frequency": "1"
                                },
                                {
                                    "listaar": "39",
                                    "frequency": "4"
                                },
                                {
                                    "listaar": "40",
                                    "frequency": "9"
                                },
                                {
                                    "listaar": "41",
                                    "frequency": "1"
                                },
                                {
                                    "listaar": "43",
                                    "frequency": "1"
                                },
                                {
                                    "listaar": "44",
                                    "frequency": "16"
                                },
                                {
                                    "listaar": "45",
                                    "frequency": "2"
                                },
                                {
                                    "listaar": "46",
                                    "frequency": "2"
                                },
                                {
                                    "listaar": "48",
                                    "frequency": "7"
                                },
                                {
                                    "listaar": "49",
                                    "frequency": "3"
                                },
                                {
                                    "listaar": "50",
                                    "frequency": "1"
                                },
                                {
                                    "listaar": "51",
                                    "frequency": "4"
                                },
                                {
                                    "listaar": "53",
                                    "frequency": "2"
                                },
                                {
                                    "listaar": "55",
                                    "frequency": "8"
                                },
                                {
                                    "listaar": "56",
                                    "frequency": "4"
                                },
                                {
                                    "listaar": "58",
                                    "frequency": "3"
                                },
                                {
                                    "listaar": "59",
                                    "frequency": "8"
                                },
                                {
                                    "listaar": "60",
                                    "frequency": "1"
                                },
                                {
                                    "listaar": "61",
                                    "frequency": "2"
                                },
                                {
                                    "listaar": "63",
                                    "frequency": "5"
                                },
                                {
                                    "listaar": "64",
                                    "frequency": "1"
                                },
                                {
                                    "listaar": "65",
                                    "frequency": "2"
                                },
                                {
                                    "listaar": "66",
                                    "frequency": "4"
                                },
                                {
                                    "listaar": "68",
                                    "frequency": "1"
                                },
                                {
                                    "listaar": "70",
                                    "frequency": "1"
                                },
                                {
                                    "listaar": "73",
                                    "frequency": "6"
                                },
                                {
                                    "listaar": "74",
                                    "frequency": "5"
                                },
                                {
                                    "listaar": "76",
                                    "frequency": "1"
                                },
                                {
                                    "listaar": "78",
                                    "frequency": "5"
                                },
                                {
                                    "listaar": "79",
                                    "frequency": "1"
                                },
                                {
                                    "listaar": "80",
                                    "frequency": "2"
                                },
                                {
                                    "listaar": "81",
                                    "frequency": "9"
                                },
                                {
                                    "listaar": "85",
                                    "frequency": "1"
                                },
                                {
                                    "listaar": "89",
                                    "frequency": "15"
                                },
                                {
                                    "listaar": "91",
                                    "frequency": "1"
                                },
                                {
                                    "listaar": "93",
                                    "frequency": "4"
                                },
                                {
                                    "listaar": "94",
                                    "frequency": "2"
                                },
                                {
                                    "listaar": "95",
                                    "frequency": "2"
                                },
                                {
                                    "listaar": "96",
                                    "frequency": "1"
                                },
                                {
                                    "listaar": "99",
                                    "frequency": "1"
                                },
                                {
                                    "listaar": "101",
                                    "frequency": "2"
                                },
                                {
                                    "listaar": "103",
                                    "frequency": "12"
                                },
                                {
                                    "listaar": "106",
                                    "frequency": "5"
                                },
                                {
                                    "listaar": "109",
                                    "frequency": "1"
                                },
                                {
                                    "listaar": "110",
                                    "frequency": "5"
                                },
                                {
                                    "listaar": "114",
                                    "frequency": "2"
                                },
                                {
                                    "listaar": "115",
                                    "frequency": "2"
                                },
                                {
                                    "listaar": "118",
                                    "frequency": "3"
                                },
                                {
                                    "listaar": "119",
                                    "frequency": "1"
                                },
                                {
                                    "listaar": "121",
                                    "frequency": "2"
                                },
                                {
                                    "listaar": "123",
                                    "frequency": "1"
                                },
                                {
                                    "listaar": "124",
                                    "frequency": "1"
                                },
                                {
                                    "listaar": "125",
                                    "frequency": "3"
                                },
                                {
                                    "listaar": "129",
                                    "frequency": "3"
                                },
                                {
                                    "listaar": "131",
                                    "frequency": "1"
                                },
                                {
                                    "listaar": "133",
                                    "frequency": "9"
                                },
                                {
                                    "listaar": "140",
                                    "frequency": "3"
                                },
                                {
                                    "listaar": "144",
                                    "frequency": "6"
                                },
                                {
                                    "listaar": "146",
                                    "frequency": "1"
                                },
                                {
                                    "listaar": "148",
                                    "frequency": "7"
                                },
                                {
                                    "listaar": "155",
                                    "frequency": "3"
                                },
                                {
                                    "listaar": "161",
                                    "frequency": "12"
                                },
                                {
                                    "listaar": "165",
                                    "frequency": "1"
                                },
                                {
                                    "listaar": "166",
                                    "frequency": "1"
                                },
                                {
                                    "listaar": "168",
                                    "frequency": "1"
                                },
                                {
                                    "listaar": "169",
                                    "frequency": "4"
                                },
                                {
                                    "listaar": "173",
                                    "frequency": "1"
                                },
                                {
                                    "listaar": "175",
                                    "frequency": "2"
                                },
                                {
                                    "listaar": "176",
                                    "frequency": "3"
                                },
                                {
                                    "listaar": "180",
                                    "frequency": "4"
                                },
                                {
                                    "listaar": "183",
                                    "frequency": "1"
                                },
                                {
                                    "listaar": "184",
                                    "frequency": "3"
                                },
                                {
                                    "listaar": "185",
                                    "frequency": "3"
                                },
                                {
                                    "listaar": "188",
                                    "frequency": "1"
                                },
                                {
                                    "listaar": "189",
                                    "frequency": "1"
                                },
                                {
                                    "listaar": "190",
                                    "frequency": "1"
                                },
                                {
                                    "listaar": "191",
                                    "frequency": "1"
                                },
                                {
                                    "listaar": "195",
                                    "frequency": "3"
                                },
                                {
                                    "listaar": "198",
                                    "frequency": "1"
                                },
                                {
                                    "listaar": "203",
                                    "frequency": "2"
                                },
                                {
                                    "listaar": "206",
                                    "frequency": "3"
                                },
                                {
                                    "listaar": "210",
                                    "frequency": "2"
                                },
                                {
                                    "listaar": "211",
                                    "frequency": "1"
                                },
                                {
                                    "listaar": "214",
                                    "frequency": "4"
                                },
                                {
                                    "listaar": "218",
                                    "frequency": "2"
                                },
                                {
                                    "listaar": "220",
                                    "frequency": "1"
                                },
                                {
                                    "listaar": "228",
                                    "frequency": "4"
                                },
                                {
                                    "listaar": "230",
                                    "frequency": "1"
                                },
                                {
                                    "listaar": "231",
                                    "frequency": "1"
                                },
                                {
                                    "listaar": "235",
                                    "frequency": "1"
                                },
                                {
                                    "listaar": "239",
                                    "frequency": "1"
                                },
                                {
                                    "listaar": "240",
                                    "frequency": "2"
                                },
                                {
                                    "listaar": "243",
                                    "frequency": "2"
                                },
                                {
                                    "listaar": "249",
                                    "frequency": "1"
                                },
                                {
                                    "listaar": "256",
                                    "frequency": "1"
                                },
                                {
                                    "listaar": "259",
                                    "frequency": "1"
                                },
                                {
                                    "listaar": "264",
                                    "frequency": "1"
                                },
                                {
                                    "listaar": "273",
                                    "frequency": "2"
                                },
                                {
                                    "listaar": "276",
                                    "frequency": "2"
                                },
                                {
                                    "listaar": "278",
                                    "frequency": "2"
                                },
                                {
                                    "listaar": "286",
                                    "frequency": "2"
                                },
                                {
                                    "listaar": "290",
                                    "frequency": "1"
                                },
                                {
                                    "listaar": "291",
                                    "frequency": "1"
                                },
                                {
                                    "listaar": "293",
                                    "frequency": "2"
                                },
                                {
                                    "listaar": "294",
                                    "frequency": "1"
                                },
                                {
                                    "listaar": "297",
                                    "frequency": "1"
                                },
                                {
                                    "listaar": "299",
                                    "frequency": "1"
                                },
                                {
                                    "listaar": "308",
                                    "frequency": "1"
                                },
                                {
                                    "listaar": "310",
                                    "frequency": "1"
                                },
                                {
                                    "listaar": "314",
                                    "frequency": "1"
                                },
                                {
                                    "listaar": "316",
                                    "frequency": "1"
                                },
                                {
                                    "listaar": "324",
                                    "frequency": "3"
                                },
                                {
                                    "listaar": "328",
                                    "frequency": "1"
                                },
                                {
                                    "listaar": "339",
                                    "frequency": "1"
                                },
                                {
                                    "listaar": "342",
                                    "frequency": "1"
                                },
                                {
                                    "listaar": "345",
                                    "frequency": "1"
                                },
                                {
                                    "listaar": "353",
                                    "frequency": "1"
                                },
                                {
                                    "listaar": "356",
                                    "frequency": "1"
                                },
                                {
                                    "listaar": "360",
                                    "frequency": "2"
                                },
                                {
                                    "listaar": "364",
                                    "frequency": "1"
                                },
                                {
                                    "listaar": "390",
                                    "frequency": "4"
                                },
                                {
                                    "listaar": "401",
                                    "frequency": "1"
                                },
                                {
                                    "listaar": "403",
                                    "frequency": "3"
                                },
                                {
                                    "listaar": "405",
                                    "frequency": "1"
                                },
                                {
                                    "listaar": "410",
                                    "frequency": "1"
                                },
                                {
                                    "listaar": "411",
                                    "frequency": "2"
                                },
                                {
                                    "listaar": "426",
                                    "frequency": "1"
                                },
                                {
                                    "listaar": "434",
                                    "frequency": "2"
                                },
                                {
                                    "listaar": "438",
                                    "frequency": "1"
                                },
                                {
                                    "listaar": "440",
                                    "frequency": "3"
                                },
                                {
                                    "listaar": "449",
                                    "frequency": "1"
                                },
                                {
                                    "listaar": "455",
                                    "frequency": "1"
                                },
                                {
                                    "listaar": "464",
                                    "frequency": "1"
                                },
                                {
                                    "listaar": "468",
                                    "frequency": "1"
                                },
                                {
                                    "listaar": "493",
                                    "frequency": "1"
                                },
                                {
                                    "listaar": "508",
                                    "frequency": "2"
                                },
                                {
                                    "listaar": "511",
                                    "frequency": "1"
                                },
                                {
                                    "listaar": "526",
                                    "frequency": "2"
                                },
                                {
                                    "listaar": "551",
                                    "frequency": "1"
                                },
                                {
                                    "listaar": "581",
                                    "frequency": "1"
                                },
                                {
                                    "listaar": "625",
                                    "frequency": "1"
                                },
                                {
                                    "listaar": "633",
                                    "frequency": "1"
                                },
                                {
                                    "listaar": "650",
                                    "frequency": "1"
                                },
                                {
                                    "listaar": "655",
                                    "frequency": "2"
                                },
                                {
                                    "listaar": "674",
                                    "frequency": "1"
                                },
                                {
                                    "listaar": "684",
                                    "frequency": "1"
                                },
                                {
                                    "listaar": "686",
                                    "frequency": "1"
                                },
                                {
                                    "listaar": "690",
                                    "frequency": "1"
                                },
                                {
                                    "listaar": "691",
                                    "frequency": "1"
                                },
                                {
                                    "listaar": "699",
                                    "frequency": "1"
                                },
                                {
                                    "listaar": "720",
                                    "frequency": "1"
                                },
                                {
                                    "listaar": "728",
                                    "frequency": "5"
                                },
                                {
                                    "listaar": "735",
                                    "frequency": "1"
                                },
                                {
                                    "listaar": "765",
                                    "frequency": "2"
                                },
                                {
                                    "listaar": "773",
                                    "frequency": "1"
                                },
                                {
                                    "listaar": "780",
                                    "frequency": "1"
                                },
                                {
                                    "listaar": "785",
                                    "frequency": "1"
                                },
                                {
                                    "listaar": "794",
                                    "frequency": "1"
                                },
                                {
                                    "listaar": "845",
                                    "frequency": "1"
                                },
                                {
                                    "listaar": "868",
                                    "frequency": "1"
                                },
                                {
                                    "listaar": "875",
                                    "frequency": "1"
                                },
                                {
                                    "listaar": "990",
                                    "frequency": "2"
                                },
                                {
                                    "listaar": "1019",
                                    "frequency": "1"
                                },
                                {
                                    "listaar": "1089",
                                    "frequency": "3"
                                },
                                {
                                    "listaar": "1147",
                                    "frequency": "1"
                                },
                                {
                                    "listaar": "1173",
                                    "frequency": "1"
                                },
                                {
                                    "listaar": "1290",
                                    "frequency": "2"
                                },
                                {
                                    "listaar": "1351",
                                    "frequency": "1"
                                },
                                {
                                    "listaar": "1377",
                                    "frequency": "1"
                                },
                                {
                                    "listaar": "1488",
                                    "frequency": "1"
                                },
                                {
                                    "listaar": "1500",
                                    "frequency": "1"
                                },
                                {
                                    "listaar": "1765",
                                    "frequency": "1"
                                },
                                {
                                    "listaar": "1990",
                                    "frequency": "1"
                                },
                                {
                                    "listaar": "2100",
                                    "frequency": "1"
                                },
                                {
                                    "listaar": "3900",
                                    "frequency": "2"
                                },
                                {
                                    "listaar": "4575",
                                    "frequency": "1"
                                },
                                {
                                    "listaar": "4990",
                                    "frequency": "2"
                                },
                                {
                                    "listaar": "6490",
                                    "frequency": "1"
                                },
                                {
                                    "listaar": "6900",
                                    "frequency": "2"
                                },
                                {
                                    "listaar": "7890",
                                    "frequency": "1"
                                },
                                {
                                    "listaar": "7900",
                                    "frequency": "2"
                                },
                                {
                                    "listaar": "8000",
                                    "frequency": "2"
                                },
                                {
                                    "listaar": "8290",
                                    "frequency": "1"
                                },
                                {
                                    "listaar": "8900",
                                    "frequency": "2"
                                },
                                {
                                    "listaar": "11900",
                                    "frequency": "1"
                                },
                                {
                                    "listaar": "14250",
                                    "frequency": "1"
                                },
                                {
                                    "listaar": "16900",
                                    "frequency": "2"
                                },
                                {
                                    "listaar": "22000",
                                    "frequency": "1"
                                },
                                {
                                    "listaar": "24000",
                                    "frequency": "1"
                                },
                                {
                                    "listaar": "32000",
                                    "frequency": "1"
                                },
                                {
                                    "listaar": "39000",
                                    "frequency": "1"
                                },
                                {
                                    "listaar": "46000",
                                    "frequency": "1"
                                }
                            ]
                        },
                        "text/html": [
                            "<table>",
                            "<tr><th>listaar</th><th>frequency</th></tr>",
                            "<tr><td>0</td><td>1</td></tr>",
                            "<tr><td>3</td><td>3</td></tr>",
                            "<tr><td>4</td><td>2</td></tr>",
                            "<tr><td>5</td><td>1</td></tr>",
                            "<tr><td>6</td><td>2</td></tr>",
                            "<tr><td>8</td><td>6</td></tr>",
                            "<tr><td>9</td><td>3</td></tr>",
                            "<tr><td>10</td><td>2</td></tr>",
                            "<tr><td>11</td><td>7</td></tr>",
                            "<tr><td>12</td><td>1</td></tr>",
                            "<tr><td>13</td><td>1</td></tr>",
                            "<tr><td>14</td><td>3</td></tr>",
                            "<tr><td>15</td><td>14</td></tr>",
                            "<tr><td>18</td><td>2</td></tr>",
                            "<tr><td>19</td><td>8</td></tr>",
                            "<tr><td>20</td><td>3</td></tr>",
                            "<tr><td>23</td><td>9</td></tr>",
                            "<tr><td>24</td><td>4</td></tr>",
                            "<tr><td>25</td><td>2</td></tr>",
                            "<tr><td>26</td><td>6</td></tr>",
                            "<tr><td>28</td><td>1</td></tr>",
                            "<tr><td>29</td><td>1</td></tr>",
                            "<tr><td>30</td><td>16</td></tr>",
                            "<tr><td>31</td><td>1</td></tr>",
                            "<tr><td>33</td><td>7</td></tr>",
                            "<tr><td>34</td><td>4</td></tr>",
                            "<tr><td>35</td><td>3</td></tr>",
                            "<tr><td>36</td><td>10</td></tr>",
                            "<tr><td>38</td><td>1</td></tr>",
                            "<tr><td>39</td><td>4</td></tr>",
                            "<tr><td>40</td><td>9</td></tr>",
                            "<tr><td>41</td><td>1</td></tr>",
                            "<tr><td>43</td><td>1</td></tr>",
                            "<tr><td>44</td><td>16</td></tr>",
                            "<tr><td>45</td><td>2</td></tr>",
                            "<tr><td>46</td><td>2</td></tr>",
                            "<tr><td>48</td><td>7</td></tr>",
                            "<tr><td>49</td><td>3</td></tr>",
                            "<tr><td>50</td><td>1</td></tr>",
                            "<tr><td>51</td><td>4</td></tr>",
                            "<tr><td>53</td><td>2</td></tr>",
                            "<tr><td>55</td><td>8</td></tr>",
                            "<tr><td>56</td><td>4</td></tr>",
                            "<tr><td>58</td><td>3</td></tr>",
                            "<tr><td>59</td><td>8</td></tr>",
                            "<tr><td>60</td><td>1</td></tr>",
                            "<tr><td>61</td><td>2</td></tr>",
                            "<tr><td>63</td><td>5</td></tr>",
                            "<tr><td>64</td><td>1</td></tr>",
                            "<tr><td>65</td><td>2</td></tr>",
                            "<tr><td>66</td><td>4</td></tr>",
                            "<tr><td>68</td><td>1</td></tr>",
                            "<tr><td>70</td><td>1</td></tr>",
                            "<tr><td>73</td><td>6</td></tr>",
                            "<tr><td>74</td><td>5</td></tr>",
                            "<tr><td>76</td><td>1</td></tr>",
                            "<tr><td>78</td><td>5</td></tr>",
                            "<tr><td>79</td><td>1</td></tr>",
                            "<tr><td>80</td><td>2</td></tr>",
                            "<tr><td>81</td><td>9</td></tr>",
                            "<tr><td>85</td><td>1</td></tr>",
                            "<tr><td>89</td><td>15</td></tr>",
                            "<tr><td>91</td><td>1</td></tr>",
                            "<tr><td>93</td><td>4</td></tr>",
                            "<tr><td>94</td><td>2</td></tr>",
                            "<tr><td>95</td><td>2</td></tr>",
                            "<tr><td>96</td><td>1</td></tr>",
                            "<tr><td>99</td><td>1</td></tr>",
                            "<tr><td>101</td><td>2</td></tr>",
                            "<tr><td>103</td><td>12</td></tr>",
                            "<tr><td>106</td><td>5</td></tr>",
                            "<tr><td>109</td><td>1</td></tr>",
                            "<tr><td>110</td><td>5</td></tr>",
                            "<tr><td>114</td><td>2</td></tr>",
                            "<tr><td>115</td><td>2</td></tr>",
                            "<tr><td>118</td><td>3</td></tr>",
                            "<tr><td>119</td><td>1</td></tr>",
                            "<tr><td>121</td><td>2</td></tr>",
                            "<tr><td>123</td><td>1</td></tr>",
                            "<tr><td>124</td><td>1</td></tr>",
                            "<tr><td>125</td><td>3</td></tr>",
                            "<tr><td>129</td><td>3</td></tr>",
                            "<tr><td>131</td><td>1</td></tr>",
                            "<tr><td>133</td><td>9</td></tr>",
                            "<tr><td>140</td><td>3</td></tr>",
                            "<tr><td>144</td><td>6</td></tr>",
                            "<tr><td>146</td><td>1</td></tr>",
                            "<tr><td>148</td><td>7</td></tr>",
                            "<tr><td>155</td><td>3</td></tr>",
                            "<tr><td>161</td><td>12</td></tr>",
                            "<tr><td>165</td><td>1</td></tr>",
                            "<tr><td>166</td><td>1</td></tr>",
                            "<tr><td>168</td><td>1</td></tr>",
                            "<tr><td>169</td><td>4</td></tr>",
                            "<tr><td>173</td><td>1</td></tr>",
                            "<tr><td>175</td><td>2</td></tr>",
                            "<tr><td>176</td><td>3</td></tr>",
                            "<tr><td>180</td><td>4</td></tr>",
                            "<tr><td>183</td><td>1</td></tr>",
                            "<tr><td>184</td><td>3</td></tr>",
                            "<tr><td>185</td><td>3</td></tr>",
                            "<tr><td>188</td><td>1</td></tr>",
                            "<tr><td>189</td><td>1</td></tr>",
                            "<tr><td>190</td><td>1</td></tr>",
                            "<tr><td>191</td><td>1</td></tr>",
                            "<tr><td>195</td><td>3</td></tr>",
                            "<tr><td>198</td><td>1</td></tr>",
                            "<tr><td>203</td><td>2</td></tr>",
                            "<tr><td>206</td><td>3</td></tr>",
                            "<tr><td>210</td><td>2</td></tr>",
                            "<tr><td>211</td><td>1</td></tr>",
                            "<tr><td>214</td><td>4</td></tr>",
                            "<tr><td>218</td><td>2</td></tr>",
                            "<tr><td>220</td><td>1</td></tr>",
                            "<tr><td>228</td><td>4</td></tr>",
                            "<tr><td>230</td><td>1</td></tr>",
                            "<tr><td>231</td><td>1</td></tr>",
                            "<tr><td>235</td><td>1</td></tr>",
                            "<tr><td>239</td><td>1</td></tr>",
                            "<tr><td>240</td><td>2</td></tr>",
                            "<tr><td>243</td><td>2</td></tr>",
                            "<tr><td>249</td><td>1</td></tr>",
                            "<tr><td>256</td><td>1</td></tr>",
                            "<tr><td>259</td><td>1</td></tr>",
                            "<tr><td>264</td><td>1</td></tr>",
                            "<tr><td>273</td><td>2</td></tr>",
                            "<tr><td>276</td><td>2</td></tr>",
                            "<tr><td>278</td><td>2</td></tr>",
                            "<tr><td>286</td><td>2</td></tr>",
                            "<tr><td>290</td><td>1</td></tr>",
                            "<tr><td>291</td><td>1</td></tr>",
                            "<tr><td>293</td><td>2</td></tr>",
                            "<tr><td>294</td><td>1</td></tr>",
                            "<tr><td>297</td><td>1</td></tr>",
                            "<tr><td>299</td><td>1</td></tr>",
                            "<tr><td>308</td><td>1</td></tr>",
                            "<tr><td>310</td><td>1</td></tr>",
                            "<tr><td>314</td><td>1</td></tr>",
                            "<tr><td>316</td><td>1</td></tr>",
                            "<tr><td>324</td><td>3</td></tr>",
                            "<tr><td>328</td><td>1</td></tr>",
                            "<tr><td>339</td><td>1</td></tr>",
                            "<tr><td>342</td><td>1</td></tr>",
                            "<tr><td>345</td><td>1</td></tr>",
                            "<tr><td>353</td><td>1</td></tr>",
                            "<tr><td>356</td><td>1</td></tr>",
                            "<tr><td>360</td><td>2</td></tr>",
                            "<tr><td>364</td><td>1</td></tr>",
                            "<tr><td>390</td><td>4</td></tr>",
                            "<tr><td>401</td><td>1</td></tr>",
                            "<tr><td>403</td><td>3</td></tr>",
                            "<tr><td>405</td><td>1</td></tr>",
                            "<tr><td>410</td><td>1</td></tr>",
                            "<tr><td>411</td><td>2</td></tr>",
                            "<tr><td>426</td><td>1</td></tr>",
                            "<tr><td>434</td><td>2</td></tr>",
                            "<tr><td>438</td><td>1</td></tr>",
                            "<tr><td>440</td><td>3</td></tr>",
                            "<tr><td>449</td><td>1</td></tr>",
                            "<tr><td>455</td><td>1</td></tr>",
                            "<tr><td>464</td><td>1</td></tr>",
                            "<tr><td>468</td><td>1</td></tr>",
                            "<tr><td>493</td><td>1</td></tr>",
                            "<tr><td>508</td><td>2</td></tr>",
                            "<tr><td>511</td><td>1</td></tr>",
                            "<tr><td>526</td><td>2</td></tr>",
                            "<tr><td>551</td><td>1</td></tr>",
                            "<tr><td>581</td><td>1</td></tr>",
                            "<tr><td>625</td><td>1</td></tr>",
                            "<tr><td>633</td><td>1</td></tr>",
                            "<tr><td>650</td><td>1</td></tr>",
                            "<tr><td>655</td><td>2</td></tr>",
                            "<tr><td>674</td><td>1</td></tr>",
                            "<tr><td>684</td><td>1</td></tr>",
                            "<tr><td>686</td><td>1</td></tr>",
                            "<tr><td>690</td><td>1</td></tr>",
                            "<tr><td>691</td><td>1</td></tr>",
                            "<tr><td>699</td><td>1</td></tr>",
                            "<tr><td>720</td><td>1</td></tr>",
                            "<tr><td>728</td><td>5</td></tr>",
                            "<tr><td>735</td><td>1</td></tr>",
                            "<tr><td>765</td><td>2</td></tr>",
                            "<tr><td>773</td><td>1</td></tr>",
                            "<tr><td>780</td><td>1</td></tr>",
                            "<tr><td>785</td><td>1</td></tr>",
                            "<tr><td>794</td><td>1</td></tr>",
                            "<tr><td>845</td><td>1</td></tr>",
                            "<tr><td>868</td><td>1</td></tr>",
                            "<tr><td>875</td><td>1</td></tr>",
                            "<tr><td>990</td><td>2</td></tr>",
                            "<tr><td>1019</td><td>1</td></tr>",
                            "<tr><td>1089</td><td>3</td></tr>",
                            "<tr><td>1147</td><td>1</td></tr>",
                            "<tr><td>1173</td><td>1</td></tr>",
                            "<tr><td>1290</td><td>2</td></tr>",
                            "<tr><td>1351</td><td>1</td></tr>",
                            "<tr><td>1377</td><td>1</td></tr>",
                            "<tr><td>1488</td><td>1</td></tr>",
                            "<tr><td>1500</td><td>1</td></tr>",
                            "<tr><td>1765</td><td>1</td></tr>",
                            "<tr><td>1990</td><td>1</td></tr>",
                            "<tr><td>2100</td><td>1</td></tr>",
                            "<tr><td>3900</td><td>2</td></tr>",
                            "<tr><td>4575</td><td>1</td></tr>",
                            "<tr><td>4990</td><td>2</td></tr>",
                            "<tr><td>6490</td><td>1</td></tr>",
                            "<tr><td>6900</td><td>2</td></tr>",
                            "<tr><td>7890</td><td>1</td></tr>",
                            "<tr><td>7900</td><td>2</td></tr>",
                            "<tr><td>8000</td><td>2</td></tr>",
                            "<tr><td>8290</td><td>1</td></tr>",
                            "<tr><td>8900</td><td>2</td></tr>",
                            "<tr><td>11900</td><td>1</td></tr>",
                            "<tr><td>14250</td><td>1</td></tr>",
                            "<tr><td>16900</td><td>2</td></tr>",
                            "<tr><td>22000</td><td>1</td></tr>",
                            "<tr><td>24000</td><td>1</td></tr>",
                            "<tr><td>32000</td><td>1</td></tr>",
                            "<tr><td>39000</td><td>1</td></tr>",
                            "<tr><td>46000</td><td>1</td></tr>",
                            "</table>"
                        ]
                    }
                },
                {
                    "output_type": "execute_result",
                    "metadata": {},
                    "execution_count": 8,
                    "data": {
                        "application/vnd.dataresource+json": {
                            "schema": {
                                "fields": [
                                    {
                                        "name": "keszlet"
                                    },
                                    {
                                        "name": "frequency"
                                    }
                                ]
                            },
                            "data": [
                                {
                                    "keszlet": "0",
                                    "frequency": "2"
                                },
                                {
                                    "keszlet": "53",
                                    "frequency": "1"
                                },
                                {
                                    "keszlet": "77",
                                    "frequency": "2"
                                },
                                {
                                    "keszlet": "78",
                                    "frequency": "1"
                                },
                                {
                                    "keszlet": "100",
                                    "frequency": "107"
                                },
                                {
                                    "keszlet": "105",
                                    "frequency": "1"
                                },
                                {
                                    "keszlet": "113",
                                    "frequency": "1"
                                },
                                {
                                    "keszlet": "119",
                                    "frequency": "1"
                                },
                                {
                                    "keszlet": "150",
                                    "frequency": "1"
                                },
                                {
                                    "keszlet": "162",
                                    "frequency": "1"
                                },
                                {
                                    "keszlet": "173",
                                    "frequency": "1"
                                },
                                {
                                    "keszlet": "182",
                                    "frequency": "1"
                                },
                                {
                                    "keszlet": "200",
                                    "frequency": "83"
                                },
                                {
                                    "keszlet": "205",
                                    "frequency": "1"
                                },
                                {
                                    "keszlet": "229",
                                    "frequency": "1"
                                },
                                {
                                    "keszlet": "238",
                                    "frequency": "1"
                                },
                                {
                                    "keszlet": "264",
                                    "frequency": "1"
                                },
                                {
                                    "keszlet": "283",
                                    "frequency": "1"
                                },
                                {
                                    "keszlet": "289",
                                    "frequency": "1"
                                },
                                {
                                    "keszlet": "297",
                                    "frequency": "1"
                                },
                                {
                                    "keszlet": "300",
                                    "frequency": "46"
                                },
                                {
                                    "keszlet": "323",
                                    "frequency": "1"
                                },
                                {
                                    "keszlet": "325",
                                    "frequency": "1"
                                },
                                {
                                    "keszlet": "328",
                                    "frequency": "1"
                                },
                                {
                                    "keszlet": "355",
                                    "frequency": "1"
                                },
                                {
                                    "keszlet": "369",
                                    "frequency": "2"
                                },
                                {
                                    "keszlet": "373",
                                    "frequency": "1"
                                },
                                {
                                    "keszlet": "376",
                                    "frequency": "1"
                                },
                                {
                                    "keszlet": "381",
                                    "frequency": "1"
                                },
                                {
                                    "keszlet": "389",
                                    "frequency": "1"
                                },
                                {
                                    "keszlet": "396",
                                    "frequency": "1"
                                },
                                {
                                    "keszlet": "400",
                                    "frequency": "29"
                                },
                                {
                                    "keszlet": "406",
                                    "frequency": "1"
                                },
                                {
                                    "keszlet": "449",
                                    "frequency": "1"
                                },
                                {
                                    "keszlet": "468",
                                    "frequency": "1"
                                },
                                {
                                    "keszlet": "470",
                                    "frequency": "1"
                                },
                                {
                                    "keszlet": "500",
                                    "frequency": "27"
                                },
                                {
                                    "keszlet": "600",
                                    "frequency": "17"
                                },
                                {
                                    "keszlet": "700",
                                    "frequency": "15"
                                },
                                {
                                    "keszlet": "800",
                                    "frequency": "8"
                                },
                                {
                                    "keszlet": "900",
                                    "frequency": "17"
                                },
                                {
                                    "keszlet": "1000",
                                    "frequency": "21"
                                },
                                {
                                    "keszlet": "1100",
                                    "frequency": "7"
                                },
                                {
                                    "keszlet": "1200",
                                    "frequency": "6"
                                },
                                {
                                    "keszlet": "1300",
                                    "frequency": "6"
                                },
                                {
                                    "keszlet": "1400",
                                    "frequency": "4"
                                },
                                {
                                    "keszlet": "1500",
                                    "frequency": "9"
                                },
                                {
                                    "keszlet": "1600",
                                    "frequency": "5"
                                },
                                {
                                    "keszlet": "1700",
                                    "frequency": "2"
                                },
                                {
                                    "keszlet": "1800",
                                    "frequency": "4"
                                },
                                {
                                    "keszlet": "1900",
                                    "frequency": "5"
                                },
                                {
                                    "keszlet": "2000",
                                    "frequency": "13"
                                },
                                {
                                    "keszlet": "2010",
                                    "frequency": "1"
                                },
                                {
                                    "keszlet": "2100",
                                    "frequency": "2"
                                },
                                {
                                    "keszlet": "2200",
                                    "frequency": "5"
                                },
                                {
                                    "keszlet": "2300",
                                    "frequency": "3"
                                },
                                {
                                    "keszlet": "2400",
                                    "frequency": "2"
                                },
                                {
                                    "keszlet": "2500",
                                    "frequency": "4"
                                },
                                {
                                    "keszlet": "2600",
                                    "frequency": "6"
                                },
                                {
                                    "keszlet": "2700",
                                    "frequency": "1"
                                },
                                {
                                    "keszlet": "2800",
                                    "frequency": "1"
                                },
                                {
                                    "keszlet": "2900",
                                    "frequency": "1"
                                },
                                {
                                    "keszlet": "3000",
                                    "frequency": "5"
                                },
                                {
                                    "keszlet": "3100",
                                    "frequency": "1"
                                },
                                {
                                    "keszlet": "3200",
                                    "frequency": "1"
                                },
                                {
                                    "keszlet": "3500",
                                    "frequency": "2"
                                },
                                {
                                    "keszlet": "3600",
                                    "frequency": "3"
                                },
                                {
                                    "keszlet": "3700",
                                    "frequency": "1"
                                },
                                {
                                    "keszlet": "3900",
                                    "frequency": "2"
                                },
                                {
                                    "keszlet": "4000",
                                    "frequency": "3"
                                },
                                {
                                    "keszlet": "4100",
                                    "frequency": "1"
                                },
                                {
                                    "keszlet": "4200",
                                    "frequency": "1"
                                },
                                {
                                    "keszlet": "4300",
                                    "frequency": "1"
                                },
                                {
                                    "keszlet": "4400",
                                    "frequency": "3"
                                },
                                {
                                    "keszlet": "4500",
                                    "frequency": "1"
                                },
                                {
                                    "keszlet": "4700",
                                    "frequency": "1"
                                },
                                {
                                    "keszlet": "4900",
                                    "frequency": "1"
                                },
                                {
                                    "keszlet": "5000",
                                    "frequency": "2"
                                },
                                {
                                    "keszlet": "5100",
                                    "frequency": "1"
                                },
                                {
                                    "keszlet": "5900",
                                    "frequency": "1"
                                },
                                {
                                    "keszlet": "6000",
                                    "frequency": "2"
                                },
                                {
                                    "keszlet": "6200",
                                    "frequency": "1"
                                },
                                {
                                    "keszlet": "6600",
                                    "frequency": "1"
                                },
                                {
                                    "keszlet": "6900",
                                    "frequency": "1"
                                },
                                {
                                    "keszlet": "7000",
                                    "frequency": "1"
                                },
                                {
                                    "keszlet": "7200",
                                    "frequency": "1"
                                },
                                {
                                    "keszlet": "7700",
                                    "frequency": "1"
                                },
                                {
                                    "keszlet": "8000",
                                    "frequency": "3"
                                },
                                {
                                    "keszlet": "9000",
                                    "frequency": "2"
                                },
                                {
                                    "keszlet": "10000",
                                    "frequency": "4"
                                },
                                {
                                    "keszlet": "12000",
                                    "frequency": "1"
                                },
                                {
                                    "keszlet": "12500",
                                    "frequency": "1"
                                },
                                {
                                    "keszlet": "15000",
                                    "frequency": "1"
                                },
                                {
                                    "keszlet": "22000",
                                    "frequency": "1"
                                },
                                {
                                    "keszlet": "25000",
                                    "frequency": "1"
                                },
                                {
                                    "keszlet": "26000",
                                    "frequency": "1"
                                },
                                {
                                    "keszlet": "30000",
                                    "frequency": "1"
                                },
                                {
                                    "keszlet": "35000",
                                    "frequency": "1"
                                },
                                {
                                    "keszlet": "40000",
                                    "frequency": "1"
                                },
                                {
                                    "keszlet": "50000",
                                    "frequency": "2"
                                }
                            ]
                        },
                        "text/html": [
                            "<table>",
                            "<tr><th>keszlet</th><th>frequency</th></tr>",
                            "<tr><td>0</td><td>2</td></tr>",
                            "<tr><td>53</td><td>1</td></tr>",
                            "<tr><td>77</td><td>2</td></tr>",
                            "<tr><td>78</td><td>1</td></tr>",
                            "<tr><td>100</td><td>107</td></tr>",
                            "<tr><td>105</td><td>1</td></tr>",
                            "<tr><td>113</td><td>1</td></tr>",
                            "<tr><td>119</td><td>1</td></tr>",
                            "<tr><td>150</td><td>1</td></tr>",
                            "<tr><td>162</td><td>1</td></tr>",
                            "<tr><td>173</td><td>1</td></tr>",
                            "<tr><td>182</td><td>1</td></tr>",
                            "<tr><td>200</td><td>83</td></tr>",
                            "<tr><td>205</td><td>1</td></tr>",
                            "<tr><td>229</td><td>1</td></tr>",
                            "<tr><td>238</td><td>1</td></tr>",
                            "<tr><td>264</td><td>1</td></tr>",
                            "<tr><td>283</td><td>1</td></tr>",
                            "<tr><td>289</td><td>1</td></tr>",
                            "<tr><td>297</td><td>1</td></tr>",
                            "<tr><td>300</td><td>46</td></tr>",
                            "<tr><td>323</td><td>1</td></tr>",
                            "<tr><td>325</td><td>1</td></tr>",
                            "<tr><td>328</td><td>1</td></tr>",
                            "<tr><td>355</td><td>1</td></tr>",
                            "<tr><td>369</td><td>2</td></tr>",
                            "<tr><td>373</td><td>1</td></tr>",
                            "<tr><td>376</td><td>1</td></tr>",
                            "<tr><td>381</td><td>1</td></tr>",
                            "<tr><td>389</td><td>1</td></tr>",
                            "<tr><td>396</td><td>1</td></tr>",
                            "<tr><td>400</td><td>29</td></tr>",
                            "<tr><td>406</td><td>1</td></tr>",
                            "<tr><td>449</td><td>1</td></tr>",
                            "<tr><td>468</td><td>1</td></tr>",
                            "<tr><td>470</td><td>1</td></tr>",
                            "<tr><td>500</td><td>27</td></tr>",
                            "<tr><td>600</td><td>17</td></tr>",
                            "<tr><td>700</td><td>15</td></tr>",
                            "<tr><td>800</td><td>8</td></tr>",
                            "<tr><td>900</td><td>17</td></tr>",
                            "<tr><td>1000</td><td>21</td></tr>",
                            "<tr><td>1100</td><td>7</td></tr>",
                            "<tr><td>1200</td><td>6</td></tr>",
                            "<tr><td>1300</td><td>6</td></tr>",
                            "<tr><td>1400</td><td>4</td></tr>",
                            "<tr><td>1500</td><td>9</td></tr>",
                            "<tr><td>1600</td><td>5</td></tr>",
                            "<tr><td>1700</td><td>2</td></tr>",
                            "<tr><td>1800</td><td>4</td></tr>",
                            "<tr><td>1900</td><td>5</td></tr>",
                            "<tr><td>2000</td><td>13</td></tr>",
                            "<tr><td>2010</td><td>1</td></tr>",
                            "<tr><td>2100</td><td>2</td></tr>",
                            "<tr><td>2200</td><td>5</td></tr>",
                            "<tr><td>2300</td><td>3</td></tr>",
                            "<tr><td>2400</td><td>2</td></tr>",
                            "<tr><td>2500</td><td>4</td></tr>",
                            "<tr><td>2600</td><td>6</td></tr>",
                            "<tr><td>2700</td><td>1</td></tr>",
                            "<tr><td>2800</td><td>1</td></tr>",
                            "<tr><td>2900</td><td>1</td></tr>",
                            "<tr><td>3000</td><td>5</td></tr>",
                            "<tr><td>3100</td><td>1</td></tr>",
                            "<tr><td>3200</td><td>1</td></tr>",
                            "<tr><td>3500</td><td>2</td></tr>",
                            "<tr><td>3600</td><td>3</td></tr>",
                            "<tr><td>3700</td><td>1</td></tr>",
                            "<tr><td>3900</td><td>2</td></tr>",
                            "<tr><td>4000</td><td>3</td></tr>",
                            "<tr><td>4100</td><td>1</td></tr>",
                            "<tr><td>4200</td><td>1</td></tr>",
                            "<tr><td>4300</td><td>1</td></tr>",
                            "<tr><td>4400</td><td>3</td></tr>",
                            "<tr><td>4500</td><td>1</td></tr>",
                            "<tr><td>4700</td><td>1</td></tr>",
                            "<tr><td>4900</td><td>1</td></tr>",
                            "<tr><td>5000</td><td>2</td></tr>",
                            "<tr><td>5100</td><td>1</td></tr>",
                            "<tr><td>5900</td><td>1</td></tr>",
                            "<tr><td>6000</td><td>2</td></tr>",
                            "<tr><td>6200</td><td>1</td></tr>",
                            "<tr><td>6600</td><td>1</td></tr>",
                            "<tr><td>6900</td><td>1</td></tr>",
                            "<tr><td>7000</td><td>1</td></tr>",
                            "<tr><td>7200</td><td>1</td></tr>",
                            "<tr><td>7700</td><td>1</td></tr>",
                            "<tr><td>8000</td><td>3</td></tr>",
                            "<tr><td>9000</td><td>2</td></tr>",
                            "<tr><td>10000</td><td>4</td></tr>",
                            "<tr><td>12000</td><td>1</td></tr>",
                            "<tr><td>12500</td><td>1</td></tr>",
                            "<tr><td>15000</td><td>1</td></tr>",
                            "<tr><td>22000</td><td>1</td></tr>",
                            "<tr><td>25000</td><td>1</td></tr>",
                            "<tr><td>26000</td><td>1</td></tr>",
                            "<tr><td>30000</td><td>1</td></tr>",
                            "<tr><td>35000</td><td>1</td></tr>",
                            "<tr><td>40000</td><td>1</td></tr>",
                            "<tr><td>50000</td><td>2</td></tr>",
                            "</table>"
                        ]
                    }
                }
            ],
            "execution_count": 8
        },
        {
            "cell_type": "code",
            "source": [
                "WITH stats AS (\r\n",
                "    SELECT \r\n",
                "        AVG(LISTAAR) AS avg_price,\r\n",
                "        AVG(KESZLET) AS avg_stock\r\n",
                "    FROM Termek\r\n",
                ")\r\n",
                "SELECT \r\n",
                "    AVG(LISTAAR) AS avg_price,\r\n",
                "    SQRT(SUM(POWER(LISTAAR - (SELECT avg_price FROM stats), 2)) / COUNT(*)) AS stddev_price,\r\n",
                "    AVG(KESZLET) AS avg_stock,\r\n",
                "    SQRT(SUM(POWER(KESZLET - (SELECT avg_stock FROM stats), 2)) / COUNT(*)) AS stddev_stock\r\n",
                "FROM Termek;\r\n",
                ""
            ],
            "metadata": {
                "azdata_cell_guid": "427fd03e-438b-4c15-a449-26cd208b7923",
                "language": "sql"
            },
            "outputs": [
                {
                    "output_type": "error",
                    "evalue": "Msg 130, Level 15, State 1, Line 9\r\nCannot perform an aggregate function on an expression containing an aggregate or a subquery.",
                    "ename": "",
                    "traceback": []
                },
                {
                    "output_type": "error",
                    "evalue": "Msg 130, Level 15, State 1, Line 11\r\nCannot perform an aggregate function on an expression containing an aggregate or a subquery.",
                    "ename": "",
                    "traceback": []
                },
                {
                    "output_type": "display_data",
                    "data": {
                        "text/html": "Total execution time: 00:00:00.023"
                    },
                    "metadata": {}
                }
            ],
            "execution_count": 11
        }
    ]
}